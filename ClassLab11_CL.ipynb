{
  "cells": [
    {
      "cell_type": "markdown",
      "metadata": {
        "id": "SmDGLOqAzZkK"
      },
      "source": [
        "# Lab Exercise: SQL Analysis with Polars\n",
        "\n",
        "In this lab, you'll practice SQL queries using Polars' built-in SQL functionality. Complete each exercise by writing the appropriate SQL query."
      ]
    },
    {
      "cell_type": "code",
      "execution_count": 43,
      "metadata": {
        "id": "tcrrTV_MzZkL",
        "colab": {
          "base_uri": "https://localhost:8080/"
        },
        "outputId": "7e743534-2793-442e-f18a-4d5c63254217"
      },
      "outputs": [
        {
          "output_type": "stream",
          "name": "stdout",
          "text": [
            "Setup complete! Tables available:\n",
            "shape: (5, 1)\n",
            "┌──────────┐\n",
            "│ name     │\n",
            "│ ---      │\n",
            "│ str      │\n",
            "╞══════════╡\n",
            "│ airlines │\n",
            "│ airports │\n",
            "│ flights  │\n",
            "│ planes   │\n",
            "│ weather  │\n",
            "└──────────┘\n"
          ]
        },
        {
          "output_type": "stream",
          "name": "stderr",
          "text": [
            "/tmp/ipython-input-878310546.py:37: DeprecationWarning: The argument `eager_execution` for `SQLContext.__init__` is deprecated. It has been renamed to `eager`.\n",
            "  ctx = pl.SQLContext(\n"
          ]
        }
      ],
      "source": [
        "# Setup - Run this cell first\n",
        "import polars as pl\n",
        "\n",
        "# Load data with specific schema overrides to handle parsing issues\n",
        "airlines = pl.read_csv('https://raw.githubusercontent.com/philhetzel/opan5510-class11/refs/heads/main/data/nyc_airlines.csv')\n",
        "airports = pl.read_csv('https://raw.githubusercontent.com/philhetzel/opan5510-class11/refs/heads/main/data/nyc_airports.csv')\n",
        "flights = pl.read_csv('https://raw.githubusercontent.com/philhetzel/opan5510-class11/refs/heads/main/data/nyc_flights.csv', null_values=['NA'], try_parse_dates=True)\n",
        "planes = pl.read_csv('https://raw.githubusercontent.com/philhetzel/opan5510-class11/refs/heads/main/data/nyc_planes.csv', null_values=['NA'])\n",
        "\n",
        "# Define a schema override for weather, reading wind_speed as String initially\n",
        "weather_schema = {\n",
        "    'origin': pl.String, 'year': pl.Int64, 'month': pl.Int64, 'day': pl.Int64,\n",
        "    'hour': pl.Int64, 'temp': pl.Float64, 'dewp': pl.Float64, 'humid': pl.Float64,\n",
        "    'wind_dir': pl.Int64, 'wind_speed': pl.String, 'gust': pl.Float64,\n",
        "    'precip': pl.Float64, 'pressure': pl.Float64, 'visib': pl.Float64,\n",
        "    'time_hour': pl.Datetime(time_unit='us')\n",
        "}\n",
        "\n",
        "weather = pl.read_csv(\n",
        "    'https://raw.githubusercontent.com/philhetzel/opan5510-class11/refs/heads/main/data/nyc_weather.csv',\n",
        "    try_parse_dates=True,\n",
        "    schema_overrides=weather_schema,\n",
        "    null_values=['NA', '\\\\N'] # Keep explicit null value handling\n",
        ")\n",
        "\n",
        "# Cast wind_speed to Float64 after loading, coercing errors to nulls\n",
        "weather = weather.with_columns(\n",
        "    pl.col('wind_speed').cast(pl.Float64, strict=False).alias('wind_speed')\n",
        ")\n",
        "\n",
        "# Cast time_hour in flights to match weather's datetime[μs] type and remove timezone\n",
        "flights = flights.with_columns(\n",
        "    pl.col('time_hour').dt.replace_time_zone(None).cast(pl.Datetime(time_unit='us')).alias('time_hour')\n",
        ")\n",
        "\n",
        "# Create SQL context\n",
        "ctx = pl.SQLContext(\n",
        "    airlines=airlines,\n",
        "    airports=airports,\n",
        "    flights=flights,\n",
        "    planes=planes,\n",
        "    weather=weather,\n",
        "    eager_execution=True\n",
        ")\n",
        "\n",
        "print(\"Setup complete! Tables available:\")\n",
        "print(ctx.execute(\"SHOW TABLES\"))"
      ]
    },
    {
      "cell_type": "markdown",
      "metadata": {
        "id": "N60_WMwzzZkM"
      },
      "source": [
        "## Exercise 1: Basic Queries\n",
        "\n",
        "### 1.1 Find all unique carriers in the airlines table"
      ]
    },
    {
      "cell_type": "code",
      "execution_count": null,
      "metadata": {
        "id": "rwRnn7w2zZkM",
        "colab": {
          "base_uri": "https://localhost:8080/"
        },
        "outputId": "9e706d85-57f2-4722-b26a-ef7f6cab321b"
      },
      "outputs": [
        {
          "output_type": "stream",
          "name": "stdout",
          "text": [
            "shape: (16, 1)\n",
            "┌─────────┐\n",
            "│ carrier │\n",
            "│ ---     │\n",
            "│ str     │\n",
            "╞═════════╡\n",
            "│ 9E      │\n",
            "│ AA      │\n",
            "│ AS      │\n",
            "│ B6      │\n",
            "│ DL      │\n",
            "│ …       │\n",
            "│ UA      │\n",
            "│ US      │\n",
            "│ VX      │\n",
            "│ WN      │\n",
            "│ YV      │\n",
            "└─────────┘\n"
          ]
        }
      ],
      "source": [
        "# Write your SQL query here\n",
        "result = ctx.execute(\"\"\"\n",
        "SELECT DISTINCT carrier\n",
        "FROM airlines\n",
        "\"\"\")\n",
        "\n",
        "print(result)"
      ]
    },
    {
      "cell_type": "markdown",
      "metadata": {
        "id": "LnZSYuuczZkM"
      },
      "source": [
        "### 1.2 Find the top 10 destinations by number of flights"
      ]
    },
    {
      "cell_type": "code",
      "execution_count": null,
      "metadata": {
        "id": "PB9jLuvfzZkM",
        "colab": {
          "base_uri": "https://localhost:8080/"
        },
        "outputId": "cadc4c2b-c964-48c5-c031-43e161b98d0d"
      },
      "outputs": [
        {
          "output_type": "stream",
          "name": "stdout",
          "text": [
            "shape: (10, 2)\n",
            "┌──────┬─────────────┐\n",
            "│ dest ┆ num_flights │\n",
            "│ ---  ┆ ---         │\n",
            "│ str  ┆ u32         │\n",
            "╞══════╪═════════════╡\n",
            "│ ORD  ┆ 17283       │\n",
            "│ ATL  ┆ 17215       │\n",
            "│ LAX  ┆ 16174       │\n",
            "│ BOS  ┆ 15508       │\n",
            "│ MCO  ┆ 14082       │\n",
            "│ CLT  ┆ 14064       │\n",
            "│ SFO  ┆ 13331       │\n",
            "│ FLL  ┆ 12055       │\n",
            "│ MIA  ┆ 11728       │\n",
            "│ DCA  ┆ 9705        │\n",
            "└──────┴─────────────┘\n"
          ]
        }
      ],
      "source": [
        "# Write your SQL query here\n",
        "result = ctx.execute(\"\"\"\n",
        " SELECT dest, COUNT(*) AS num_flights\n",
        "    FROM flights\n",
        "    GROUP BY dest\n",
        "    ORDER BY num_flights DESC\n",
        "    LIMIT 10\n",
        "\"\"\")\n",
        "\n",
        "print(result)"
      ]
    },
    {
      "cell_type": "markdown",
      "metadata": {
        "id": "UHDbzgGczZkM"
      },
      "source": [
        "### 1.3 Find all flights that departed more than 2 hours late (120 minutes)"
      ]
    },
    {
      "cell_type": "code",
      "execution_count": null,
      "metadata": {
        "id": "XTXqoE3MzZkM",
        "colab": {
          "base_uri": "https://localhost:8080/"
        },
        "outputId": "344a068b-7476-47b3-b6eb-81dca6752133"
      },
      "outputs": [
        {
          "output_type": "stream",
          "name": "stdout",
          "text": [
            "shape: (9_723, 19)\n",
            "┌──────┬───────┬─────┬──────────┬───┬──────────┬──────┬────────┬─────────────────────────┐\n",
            "│ year ┆ month ┆ day ┆ dep_time ┆ … ┆ distance ┆ hour ┆ minute ┆ time_hour               │\n",
            "│ ---  ┆ ---   ┆ --- ┆ ---      ┆   ┆ ---      ┆ ---  ┆ ---    ┆ ---                     │\n",
            "│ i64  ┆ i64   ┆ i64 ┆ i64      ┆   ┆ i64      ┆ i64  ┆ i64    ┆ datetime[μs, UTC]       │\n",
            "╞══════╪═══════╪═════╪══════════╪═══╪══════════╪══════╪════════╪═════════════════════════╡\n",
            "│ 2013 ┆ 1     ┆ 1   ┆ 848      ┆ … ┆ 184      ┆ 18   ┆ 35     ┆ 2013-01-01 23:00:00 UTC │\n",
            "│ 2013 ┆ 1     ┆ 1   ┆ 957      ┆ … ┆ 200      ┆ 7    ┆ 33     ┆ 2013-01-01 12:00:00 UTC │\n",
            "│ 2013 ┆ 1     ┆ 1   ┆ 1114     ┆ … ┆ 1416     ┆ 9    ┆ 0      ┆ 2013-01-01 14:00:00 UTC │\n",
            "│ 2013 ┆ 1     ┆ 1   ┆ 1540     ┆ … ┆ 1598     ┆ 13   ┆ 38     ┆ 2013-01-01 18:00:00 UTC │\n",
            "│ 2013 ┆ 1     ┆ 1   ┆ 1815     ┆ … ┆ 1134     ┆ 13   ┆ 25     ┆ 2013-01-01 18:00:00 UTC │\n",
            "│ …    ┆ …     ┆ …   ┆ …        ┆ … ┆ …        ┆ …    ┆ …      ┆ …                       │\n",
            "│ 2013 ┆ 9     ┆ 30  ┆ 1823     ┆ … ┆ 765      ┆ 15   ┆ 45     ┆ 2013-09-30 19:00:00 UTC │\n",
            "│ 2013 ┆ 9     ┆ 30  ┆ 1951     ┆ … ┆ 708      ┆ 16   ┆ 49     ┆ 2013-09-30 20:00:00 UTC │\n",
            "│ 2013 ┆ 9     ┆ 30  ┆ 2053     ┆ … ┆ 746      ┆ 18   ┆ 15     ┆ 2013-09-30 22:00:00 UTC │\n",
            "│ 2013 ┆ 9     ┆ 30  ┆ 2159     ┆ … ┆ 301      ┆ 18   ┆ 45     ┆ 2013-09-30 22:00:00 UTC │\n",
            "│ 2013 ┆ 9     ┆ 30  ┆ 2235     ┆ … ┆ 944      ┆ 20   ┆ 1      ┆ 2013-10-01 00:00:00 UTC │\n",
            "└──────┴───────┴─────┴──────────┴───┴──────────┴──────┴────────┴─────────────────────────┘\n"
          ]
        }
      ],
      "source": [
        "# Write your SQL query here\n",
        "result = ctx.execute(\"\"\"\n",
        "SELECT *\n",
        "    FROM flights\n",
        "    WHERE dep_delay > 120\n",
        "\"\"\")\n",
        "\n",
        "print(result)"
      ]
    },
    {
      "cell_type": "markdown",
      "metadata": {
        "id": "pQq-jcVXzZkM"
      },
      "source": [
        "## Exercise 2: Aggregation\n",
        "\n",
        "### 2.1 Calculate the average departure delay for each origin airport"
      ]
    },
    {
      "cell_type": "code",
      "execution_count": null,
      "metadata": {
        "id": "yW-FIL2XzZkM",
        "colab": {
          "base_uri": "https://localhost:8080/"
        },
        "outputId": "6e02b01e-5b94-4944-eaf8-58c726dbaa14"
      },
      "outputs": [
        {
          "output_type": "stream",
          "name": "stdout",
          "text": [
            "shape: (3, 2)\n",
            "┌────────┬───────────────┐\n",
            "│ origin ┆ avg_dep_delay │\n",
            "│ ---    ┆ ---           │\n",
            "│ str    ┆ f64           │\n",
            "╞════════╪═══════════════╡\n",
            "│ EWR    ┆ 15.107954     │\n",
            "│ JFK    ┆ 12.112159     │\n",
            "│ LGA    ┆ 10.346876     │\n",
            "└────────┴───────────────┘\n"
          ]
        }
      ],
      "source": [
        "# Write your SQL query here\n",
        "result = ctx.execute(\"\"\"\n",
        "SELECT origin, AVG(dep_delay) AS avg_dep_delay\n",
        "    FROM flights\n",
        "    GROUP BY origin\n",
        "    ORDER BY avg_dep_delay DESC\n",
        "\"\"\")\n",
        "\n",
        "print(result)"
      ]
    },
    {
      "cell_type": "markdown",
      "metadata": {
        "id": "QSgGYgaizZkM"
      },
      "source": [
        "### 2.2 Find the busiest month of the year\n",
        "\n",
        "Count the number of flights per month and find which month has the most flights."
      ]
    },
    {
      "cell_type": "code",
      "execution_count": null,
      "metadata": {
        "id": "mQZt9LSszZkM",
        "colab": {
          "base_uri": "https://localhost:8080/"
        },
        "outputId": "17c12e31-4f74-481c-c1a0-743cfcb1398b"
      },
      "outputs": [
        {
          "output_type": "stream",
          "name": "stdout",
          "text": [
            "shape: (5, 19)\n",
            "┌──────┬───────┬─────┬──────────┬───┬──────────┬──────┬────────┬─────────────────────────┐\n",
            "│ year ┆ month ┆ day ┆ dep_time ┆ … ┆ distance ┆ hour ┆ minute ┆ time_hour               │\n",
            "│ ---  ┆ ---   ┆ --- ┆ ---      ┆   ┆ ---      ┆ ---  ┆ ---    ┆ ---                     │\n",
            "│ i64  ┆ i64   ┆ i64 ┆ i64      ┆   ┆ i64      ┆ i64  ┆ i64    ┆ datetime[μs, UTC]       │\n",
            "╞══════╪═══════╪═════╪══════════╪═══╪══════════╪══════╪════════╪═════════════════════════╡\n",
            "│ 2013 ┆ 1     ┆ 1   ┆ 517      ┆ … ┆ 1400     ┆ 5    ┆ 15     ┆ 2013-01-01 10:00:00 UTC │\n",
            "│ 2013 ┆ 1     ┆ 1   ┆ 533      ┆ … ┆ 1416     ┆ 5    ┆ 29     ┆ 2013-01-01 10:00:00 UTC │\n",
            "│ 2013 ┆ 1     ┆ 1   ┆ 542      ┆ … ┆ 1089     ┆ 5    ┆ 40     ┆ 2013-01-01 10:00:00 UTC │\n",
            "│ 2013 ┆ 1     ┆ 1   ┆ 544      ┆ … ┆ 1576     ┆ 5    ┆ 45     ┆ 2013-01-01 10:00:00 UTC │\n",
            "│ 2013 ┆ 1     ┆ 1   ┆ 554      ┆ … ┆ 762      ┆ 6    ┆ 0      ┆ 2013-01-01 11:00:00 UTC │\n",
            "└──────┴───────┴─────┴──────────┴───┴──────────┴──────┴────────┴─────────────────────────┘\n",
            "shape: (1, 2)\n",
            "┌───────┬─────────────┐\n",
            "│ month ┆ num_flights │\n",
            "│ ---   ┆ ---         │\n",
            "│ i8    ┆ u32         │\n",
            "╞═══════╪═════════════╡\n",
            "│ 7     ┆ 29428       │\n",
            "└───────┴─────────────┘\n"
          ]
        }
      ],
      "source": [
        "# First, let's check what columns are available\n",
        "result = ctx.execute(\"\"\"\n",
        "    SELECT *\n",
        "    FROM flights\n",
        "    LIMIT 5\n",
        "\"\"\")\n",
        "print(result)\n",
        "\n",
        "# Now write your query to find busiest month\n",
        "result = ctx.execute(\"\"\"\n",
        "WITH MonthlyFlights AS (\n",
        "    SELECT\n",
        "        EXTRACT(month FROM time_hour) AS month\n",
        "    FROM flights\n",
        ")\n",
        "SELECT\n",
        "    month,\n",
        "    COUNT(*) AS num_flights\n",
        "FROM MonthlyFlights\n",
        "GROUP BY month\n",
        "ORDER BY num_flights DESC\n",
        "LIMIT 1\n",
        "\"\"\")\n",
        "\n",
        "print(result)"
      ]
    },
    {
      "cell_type": "markdown",
      "metadata": {
        "id": "RR4-kPtpzZkN"
      },
      "source": [
        "### 2.3 Calculate the on-time performance rate for each carrier\n",
        "\n",
        "Consider a flight on-time if the departure delay is <= 15 minutes."
      ]
    },
    {
      "cell_type": "code",
      "execution_count": null,
      "metadata": {
        "id": "TPZfCkpyzZkN",
        "colab": {
          "base_uri": "https://localhost:8080/"
        },
        "outputId": "5f9221b4-f790-4ced-e6ed-be80910fcf84"
      },
      "outputs": [
        {
          "output_type": "stream",
          "name": "stdout",
          "text": [
            "shape: (16, 4)\n",
            "┌─────────┬───────────────┬─────────────────┬──────────────┐\n",
            "│ carrier ┆ total_flights ┆ on_time_flights ┆ on_time_rate │\n",
            "│ ---     ┆ ---           ┆ ---             ┆ ---          │\n",
            "│ str     ┆ u32           ┆ i32             ┆ f64          │\n",
            "╞═════════╪═══════════════╪═════════════════╪══════════════╡\n",
            "│ HA      ┆ 342           ┆ 318             ┆ 0.929825     │\n",
            "│ AS      ┆ 714           ┆ 618             ┆ 0.865546     │\n",
            "│ US      ┆ 20536         ┆ 17453           ┆ 0.849873     │\n",
            "│ DL      ┆ 48110         ┆ 39967           ┆ 0.830742     │\n",
            "│ AA      ┆ 32729         ┆ 26981           ┆ 0.824376     │\n",
            "│ …       ┆ …             ┆ …               ┆ …            │\n",
            "│ FL      ┆ 3260          ┆ 2337            ┆ 0.716871     │\n",
            "│ F9      ┆ 685           ┆ 490             ┆ 0.715328     │\n",
            "│ 9E      ┆ 18460         ┆ 12945           ┆ 0.701246     │\n",
            "│ EV      ┆ 54173         ┆ 35712           ┆ 0.659221     │\n",
            "│ YV      ┆ 601           ┆ 389             ┆ 0.647255     │\n",
            "└─────────┴───────────────┴─────────────────┴──────────────┘\n"
          ]
        }
      ],
      "source": [
        "# Write your SQL query here\n",
        "result = ctx.execute(\"\"\"\n",
        "SELECT\n",
        "    carrier,\n",
        "    COUNT(*) AS total_flights,\n",
        "    SUM(CASE WHEN dep_delay <= 15 THEN 1 ELSE 0 END) AS on_time_flights,\n",
        "    1.0 * SUM(CASE WHEN dep_delay <= 15 THEN 1 ELSE 0 END) / COUNT(*) AS on_time_rate\n",
        "FROM flights\n",
        "GROUP BY carrier\n",
        "ORDER BY on_time_rate DESC\n",
        "\"\"\")\n",
        "\n",
        "print(result)"
      ]
    },
    {
      "cell_type": "markdown",
      "metadata": {
        "id": "r-ejf231zZkN"
      },
      "source": [
        "## Exercise 3: Joins\n",
        "\n",
        "### 3.1 List all flights with their airline names (not just carrier codes)\n",
        "\n",
        "Show the first 20 flights with carrier code, airline name, flight number, origin, and destination."
      ]
    },
    {
      "cell_type": "code",
      "execution_count": null,
      "metadata": {
        "id": "JL0-8fFczZkN",
        "colab": {
          "base_uri": "https://localhost:8080/"
        },
        "outputId": "eca93c49-0a7e-4c07-fa5d-525f9994ecd2"
      },
      "outputs": [
        {
          "output_type": "stream",
          "name": "stdout",
          "text": [
            "shape: (20, 5)\n",
            "┌─────────┬────────────────────────┬────────┬────────┬──────┐\n",
            "│ carrier ┆ airline_name           ┆ flight ┆ origin ┆ dest │\n",
            "│ ---     ┆ ---                    ┆ ---    ┆ ---    ┆ ---  │\n",
            "│ str     ┆ str                    ┆ i64    ┆ str    ┆ str  │\n",
            "╞═════════╪════════════════════════╪════════╪════════╪══════╡\n",
            "│ UA      ┆ United Air Lines Inc.  ┆ 1545   ┆ EWR    ┆ IAH  │\n",
            "│ UA      ┆ United Air Lines Inc.  ┆ 1714   ┆ LGA    ┆ IAH  │\n",
            "│ AA      ┆ American Airlines Inc. ┆ 1141   ┆ JFK    ┆ MIA  │\n",
            "│ B6      ┆ JetBlue Airways        ┆ 725    ┆ JFK    ┆ BQN  │\n",
            "│ DL      ┆ Delta Air Lines Inc.   ┆ 461    ┆ LGA    ┆ ATL  │\n",
            "│ …       ┆ …                      ┆ …      ┆ …      ┆ …    │\n",
            "│ B6      ┆ JetBlue Airways        ┆ 1806   ┆ JFK    ┆ BOS  │\n",
            "│ UA      ┆ United Air Lines Inc.  ┆ 1187   ┆ EWR    ┆ LAS  │\n",
            "│ B6      ┆ JetBlue Airways        ┆ 371    ┆ LGA    ┆ FLL  │\n",
            "│ MQ      ┆ Envoy Air              ┆ 4650   ┆ LGA    ┆ ATL  │\n",
            "│ B6      ┆ JetBlue Airways        ┆ 343    ┆ EWR    ┆ PBI  │\n",
            "└─────────┴────────────────────────┴────────┴────────┴──────┘\n"
          ]
        }
      ],
      "source": [
        "# Write your SQL query here\n",
        "result = ctx.execute(\"\"\"\n",
        "SELECT\n",
        "    f.carrier,\n",
        "    a.name AS airline_name,\n",
        "    f.flight,\n",
        "    f.origin,\n",
        "    f.dest\n",
        "FROM flights f\n",
        "JOIN airlines a\n",
        "    ON f.carrier = a.carrier\n",
        "LIMIT 20;\n",
        "\"\"\")\n",
        "\n",
        "print(result)"
      ]
    },
    {
      "cell_type": "markdown",
      "metadata": {
        "id": "S5e0ofyezZkN"
      },
      "source": [
        "### 3.2 Find the average age of planes for each carrier\n",
        "\n",
        "Hint: The planes table has a `year` column for manufacture year. Calculate age based on 2013."
      ]
    },
    {
      "cell_type": "code",
      "execution_count": null,
      "metadata": {
        "id": "NFyLmv4MzZkN"
      },
      "outputs": [],
      "source": [
        "# Write your SQL query here\n",
        "result = ctx.execute(\"\"\"\n",
        "-- Your query here\n",
        "\"\"\")\n",
        "\n",
        "# print(result)"
      ]
    },
    {
      "cell_type": "markdown",
      "metadata": {
        "id": "4S3Gc82jzZkN"
      },
      "source": [
        "### 3.3 Find flights that experienced both departure delays and bad weather\n",
        "\n",
        "Join flights with weather data and find flights where departure delay > 30 minutes and either wind_speed > 20 or precip > 0.1"
      ]
    },
    {
      "cell_type": "code",
      "execution_count": 48,
      "metadata": {
        "id": "5QLadtZczZkO",
        "colab": {
          "base_uri": "https://localhost:8080/",
          "height": 598
        },
        "outputId": "3dc6a9ac-4614-4e6f-8a52-18bf02f60a38"
      },
      "outputs": [
        {
          "output_type": "stream",
          "name": "stdout",
          "text": [
            "shape: (5, 15)\n",
            "┌────────┬──────┬───────┬─────┬───┬────────┬──────────┬───────┬─────────────────────┐\n",
            "│ origin ┆ year ┆ month ┆ day ┆ … ┆ precip ┆ pressure ┆ visib ┆ time_hour           │\n",
            "│ ---    ┆ ---  ┆ ---   ┆ --- ┆   ┆ ---    ┆ ---      ┆ ---   ┆ ---                 │\n",
            "│ str    ┆ i64  ┆ i64   ┆ i64 ┆   ┆ f64    ┆ f64      ┆ f64   ┆ datetime[μs]        │\n",
            "╞════════╪══════╪═══════╪═════╪═══╪════════╪══════════╪═══════╪═════════════════════╡\n",
            "│ EWR    ┆ 2013 ┆ 1     ┆ 1   ┆ … ┆ 0.0    ┆ 1012.0   ┆ 10.0  ┆ 2013-01-01 06:00:00 │\n",
            "│ EWR    ┆ 2013 ┆ 1     ┆ 1   ┆ … ┆ 0.0    ┆ 1012.3   ┆ 10.0  ┆ 2013-01-01 07:00:00 │\n",
            "│ EWR    ┆ 2013 ┆ 1     ┆ 1   ┆ … ┆ 0.0    ┆ 1012.5   ┆ 10.0  ┆ 2013-01-01 08:00:00 │\n",
            "│ EWR    ┆ 2013 ┆ 1     ┆ 1   ┆ … ┆ 0.0    ┆ 1012.2   ┆ 10.0  ┆ 2013-01-01 09:00:00 │\n",
            "│ EWR    ┆ 2013 ┆ 1     ┆ 1   ┆ … ┆ 0.0    ┆ 1011.9   ┆ 10.0  ┆ 2013-01-01 10:00:00 │\n",
            "└────────┴──────┴───────┴─────┴───┴────────┴──────────┴───────┴─────────────────────┘\n"
          ]
        },
        {
          "output_type": "error",
          "ename": "SQLInterfaceError",
          "evalue": "only equi-join constraints (on identifiers) are currently supported; found lhs=Cast { kind: DoubleColon, expr: CompoundIdentifier([Ident { value: \"f\", quote_style: None, span: Span(Location(12,36)..Location(12,37)) }, Ident { value: \"time_hour\", quote_style: None, span: Span(Location(12,38)..Location(12,47)) }]), data_type: Timestamp(None, None), format: None }, rhs=CompoundIdentifier([Ident { value: \"w\", quote_style: None, span: Span(Location(12,61)..Location(12,62)) }, Ident { value: \"time_hour\", quote_style: None, span: Span(Location(12,63)..Location(12,72)) }])",
          "traceback": [
            "\u001b[0;31m---------------------------------------------------------------------------\u001b[0m",
            "\u001b[0;31mSQLInterfaceError\u001b[0m                         Traceback (most recent call last)",
            "\u001b[0;32m/tmp/ipython-input-1856434160.py\u001b[0m in \u001b[0;36m<cell line: 0>\u001b[0;34m()\u001b[0m\n\u001b[1;32m      8\u001b[0m \u001b[0;34m\u001b[0m\u001b[0m\n\u001b[1;32m      9\u001b[0m \u001b[0;31m# Now write your join query\u001b[0m\u001b[0;34m\u001b[0m\u001b[0;34m\u001b[0m\u001b[0m\n\u001b[0;32m---> 10\u001b[0;31m result = ctx.execute(\"\"\"\n\u001b[0m\u001b[1;32m     11\u001b[0m \u001b[0mSELECT\u001b[0m\u001b[0;34m\u001b[0m\u001b[0;34m\u001b[0m\u001b[0m\n\u001b[1;32m     12\u001b[0m         \u001b[0mf\u001b[0m\u001b[0;34m.\u001b[0m\u001b[0mflight\u001b[0m\u001b[0;34m,\u001b[0m\u001b[0;34m\u001b[0m\u001b[0;34m\u001b[0m\u001b[0m\n",
            "\u001b[0;32m/usr/local/lib/python3.11/dist-packages/polars/sql/context.py\u001b[0m in \u001b[0;36mexecute\u001b[0;34m(self, query, eager)\u001b[0m\n\u001b[1;32m    435\u001b[0m         \u001b[0;31m└\u001b[0m\u001b[0;31m─\u001b[0m\u001b[0;31m─\u001b[0m\u001b[0;31m─\u001b[0m\u001b[0;31m─\u001b[0m\u001b[0;31m─\u001b[0m\u001b[0;31m─\u001b[0m\u001b[0;31m─\u001b[0m\u001b[0;31m─\u001b[0m\u001b[0;31m┴\u001b[0m\u001b[0;31m─\u001b[0m\u001b[0;31m─\u001b[0m\u001b[0;31m─\u001b[0m\u001b[0;31m─\u001b[0m\u001b[0;31m─\u001b[0m\u001b[0;31m─\u001b[0m\u001b[0;31m─\u001b[0m\u001b[0;31m─\u001b[0m\u001b[0;31m─\u001b[0m\u001b[0;31m─\u001b[0m\u001b[0;31m─\u001b[0m\u001b[0;31m─\u001b[0m\u001b[0;31m─\u001b[0m\u001b[0;31m┴\u001b[0m\u001b[0;31m─\u001b[0m\u001b[0;31m─\u001b[0m\u001b[0;31m─\u001b[0m\u001b[0;31m─\u001b[0m\u001b[0;31m─\u001b[0m\u001b[0;31m─\u001b[0m\u001b[0;31m─\u001b[0m\u001b[0;31m─\u001b[0m\u001b[0;31m─\u001b[0m\u001b[0;31m┘\u001b[0m\u001b[0;34m\u001b[0m\u001b[0;34m\u001b[0m\u001b[0m\n\u001b[1;32m    436\u001b[0m         \"\"\"\n\u001b[0;32m--> 437\u001b[0;31m         \u001b[0mres\u001b[0m \u001b[0;34m=\u001b[0m \u001b[0mwrap_ldf\u001b[0m\u001b[0;34m(\u001b[0m\u001b[0mself\u001b[0m\u001b[0;34m.\u001b[0m\u001b[0m_ctxt\u001b[0m\u001b[0;34m.\u001b[0m\u001b[0mexecute\u001b[0m\u001b[0;34m(\u001b[0m\u001b[0mquery\u001b[0m\u001b[0;34m)\u001b[0m\u001b[0;34m)\u001b[0m\u001b[0;34m\u001b[0m\u001b[0;34m\u001b[0m\u001b[0m\n\u001b[0m\u001b[1;32m    438\u001b[0m         \u001b[0;32mreturn\u001b[0m \u001b[0mres\u001b[0m\u001b[0;34m.\u001b[0m\u001b[0mcollect\u001b[0m\u001b[0;34m(\u001b[0m\u001b[0;34m)\u001b[0m \u001b[0;32mif\u001b[0m \u001b[0;34m(\u001b[0m\u001b[0meager\u001b[0m \u001b[0;32mor\u001b[0m \u001b[0mself\u001b[0m\u001b[0;34m.\u001b[0m\u001b[0m_eager_execution\u001b[0m\u001b[0;34m)\u001b[0m \u001b[0;32melse\u001b[0m \u001b[0mres\u001b[0m\u001b[0;34m\u001b[0m\u001b[0;34m\u001b[0m\u001b[0m\n\u001b[1;32m    439\u001b[0m \u001b[0;34m\u001b[0m\u001b[0m\n",
            "\u001b[0;31mSQLInterfaceError\u001b[0m: only equi-join constraints (on identifiers) are currently supported; found lhs=Cast { kind: DoubleColon, expr: CompoundIdentifier([Ident { value: \"f\", quote_style: None, span: Span(Location(12,36)..Location(12,37)) }, Ident { value: \"time_hour\", quote_style: None, span: Span(Location(12,38)..Location(12,47)) }]), data_type: Timestamp(None, None), format: None }, rhs=CompoundIdentifier([Ident { value: \"w\", quote_style: None, span: Span(Location(12,61)..Location(12,62)) }, Ident { value: \"time_hour\", quote_style: None, span: Span(Location(12,63)..Location(12,72)) }])"
          ]
        }
      ],
      "source": [
        "# First, explore the weather table structure\n",
        "result = ctx.execute(\"\"\"\n",
        "    SELECT *\n",
        "    FROM weather\n",
        "    LIMIT 5\n",
        "\"\"\")\n",
        "print(result)\n",
        "\n",
        "# Now write your join query\n",
        "result = ctx.execute(\"\"\"\n",
        "SELECT\n",
        "        f.flight,\n",
        "        f.carrier,\n",
        "        f.origin,\n",
        "        f.dest,\n",
        "        f.dep_delay,\n",
        "        w.wind_speed,\n",
        "        w.precip\n",
        "    FROM flights f\n",
        "    JOIN weather w\n",
        "        ON f.origin = w.origin AND f.time_hour::TIMESTAMP = w.time_hour\n",
        "    WHERE f.dep_delay > 30\n",
        "      AND (w.wind_speed > 20 OR w.precip > 0.1)\n",
        "\"\"\")\n",
        "\n",
        "print(result)"
      ]
    },
    {
      "cell_type": "markdown",
      "metadata": {
        "id": "_ljv_V52zZkO"
      },
      "source": [
        "## Exercise 4: Advanced Queries\n",
        "\n",
        "### 4.1 Find the most popular aircraft types (by number of flights)\n",
        "\n",
        "Join flights with planes to get manufacturer and model information. Show top 10."
      ]
    },
    {
      "cell_type": "code",
      "execution_count": 50,
      "metadata": {
        "id": "K7MfpxAczZkO",
        "colab": {
          "base_uri": "https://localhost:8080/"
        },
        "outputId": "0086ff2f-1a3e-43f6-cd53-e29ec90e1f30"
      },
      "outputs": [
        {
          "output_type": "stream",
          "name": "stdout",
          "text": [
            "shape: (10, 3)\n",
            "┌───────────────────────────────┬─────────────────┬─────────────┐\n",
            "│ manufacturer                  ┆ model           ┆ num_flights │\n",
            "│ ---                           ┆ ---             ┆ ---         │\n",
            "│ str                           ┆ str             ┆ u32         │\n",
            "╞═══════════════════════════════╪═════════════════╪═════════════╡\n",
            "│ AIRBUS                        ┆ A320-232        ┆ 31278       │\n",
            "│ EMBRAER                       ┆ EMB-145LR       ┆ 28027       │\n",
            "│ EMBRAER                       ┆ ERJ 190-100 IGW ┆ 23716       │\n",
            "│ AIRBUS INDUSTRIE              ┆ A320-232        ┆ 14553       │\n",
            "│ EMBRAER                       ┆ EMB-145XR       ┆ 14051       │\n",
            "│ BOEING                        ┆ 737-824         ┆ 13809       │\n",
            "│ BOMBARDIER INC                ┆ CL-600-2D24     ┆ 11807       │\n",
            "│ BOEING                        ┆ 737-7H4         ┆ 10389       │\n",
            "│ BOEING                        ┆ 757-222         ┆ 9150        │\n",
            "│ MCDONNELL DOUGLAS AIRCRAFT CO ┆ MD-88           ┆ 8932        │\n",
            "└───────────────────────────────┴─────────────────┴─────────────┘\n"
          ]
        }
      ],
      "source": [
        "# Write your SQL query here\n",
        "result = ctx.execute(\"\"\"\n",
        "SELECT\n",
        "    p.manufacturer,\n",
        "    p.model,\n",
        "    COUNT(*) AS num_flights\n",
        "FROM flights f\n",
        "JOIN planes p\n",
        "    ON f.tailnum = p.tailnum\n",
        "GROUP BY p.manufacturer, p.model\n",
        "ORDER BY num_flights DESC\n",
        "LIMIT 10;\n",
        "\"\"\")\n",
        "\n",
        "print(result)"
      ]
    },
    {
      "cell_type": "markdown",
      "metadata": {
        "id": "d4utXqLmzZkO"
      },
      "source": [
        "### 4.2 Analyze route performance\n",
        "\n",
        "Find the top 10 routes (origin-destination pairs) with:\n",
        "- Total number of flights\n",
        "- Average departure delay\n",
        "- Percentage of flights delayed more than 30 minutes\n",
        "\n",
        "Include airport names, not just codes."
      ]
    },
    {
      "cell_type": "code",
      "execution_count": 56,
      "metadata": {
        "id": "njunG8_qzZkP",
        "colab": {
          "base_uri": "https://localhost:8080/"
        },
        "outputId": "4c42dafb-6885-4ce2-b3b8-4ba01e25f52a"
      },
      "outputs": [
        {
          "output_type": "stream",
          "name": "stdout",
          "text": [
            "shape: (10, 5)\n",
            "┌─────────────────────┬──────────────────────┬───────────────┬───────────────┬─────────────────────┐\n",
            "│ origin_airport      ┆ dest_airport         ┆ total_flights ┆ avg_dep_delay ┆ pct_delayed_over_30 │\n",
            "│ ---                 ┆ ---                  ┆ ---           ┆ ---           ┆ ---                 │\n",
            "│ str                 ┆ str                  ┆ u32           ┆ f64           ┆ f64                 │\n",
            "╞═════════════════════╪══════════════════════╪═══════════════╪═══════════════╪═════════════════════╡\n",
            "│ John F Kennedy Intl ┆ Los Angeles Intl     ┆ 11262         ┆ 8.522508      ┆ 9.829515            │\n",
            "│ La Guardia          ┆ Hartsfield Jackson   ┆ 10263         ┆ 11.448621     ┆ 12.247881           │\n",
            "│                     ┆ Atlanta Int…         ┆               ┆               ┆                     │\n",
            "│ La Guardia          ┆ Chicago Ohare Intl   ┆ 8857          ┆ 10.740758     ┆ 13.345377           │\n",
            "│ John F Kennedy Intl ┆ San Francisco Intl   ┆ 8204          ┆ 11.952691     ┆ 12.116041           │\n",
            "│ La Guardia          ┆ Charlotte Douglas    ┆ 6168          ┆ 8.965321      ┆ 11.948768           │\n",
            "│                     ┆ Intl                 ┆               ┆               ┆                     │\n",
            "│ Newark Liberty Intl ┆ Chicago Ohare Intl   ┆ 6100          ┆ 14.644163     ┆ 16.0                │\n",
            "│ John F Kennedy Intl ┆ General Edward       ┆ 5898          ┆ 11.694953     ┆ 13.767379           │\n",
            "│                     ┆ Lawrence Logan …     ┆               ┆               ┆                     │\n",
            "│ La Guardia          ┆ Miami Intl           ┆ 5781          ┆ 7.361747      ┆ 9.462031            │\n",
            "│ John F Kennedy Intl ┆ Orlando Intl         ┆ 5464          ┆ 10.601583     ┆ 12.719619           │\n",
            "│ Newark Liberty Intl ┆ General Edward       ┆ 5327          ┆ 12.54561      ┆ 14.9052             │\n",
            "│                     ┆ Lawrence Logan …     ┆               ┆               ┆                     │\n",
            "└─────────────────────┴──────────────────────┴───────────────┴───────────────┴─────────────────────┘\n"
          ]
        }
      ],
      "source": [
        "# Write your SQL query here\n",
        "sql_result_limited = ctx.execute(\"\"\"\n",
        "SELECT\n",
        "    a1.name AS origin_airport,\n",
        "    a2.name AS dest_airport,\n",
        "    f.dep_delay\n",
        "FROM flights f\n",
        "JOIN airports a1 ON f.origin = a1.faa\n",
        "JOIN airports a2 ON f.dest = a2.faa\n",
        "\"\"\")\n",
        "\n",
        "# Perform aggregation using Polars\n",
        "polars_result = sql_result_limited.group_by(\"origin_airport\", \"dest_airport\").agg(\n",
        "    pl.len().alias(\"total_flights\"), # Use pl.len() for row count\n",
        "    pl.col(\"dep_delay\").mean().alias(\"avg_dep_delay\"),\n",
        "    (pl.col(\"dep_delay\").filter(pl.col(\"dep_delay\") > 30).count() * 100.0 / pl.len()).alias(\"pct_delayed_over_30\") # Corrected syntax for conditional count and total count\n",
        ").sort(\"total_flights\", descending=True).limit(10)\n",
        "\n",
        "print(polars_result)"
      ]
    },
    {
      "cell_type": "markdown",
      "metadata": {
        "id": "Xm-nFluBzZkP"
      },
      "source": [
        "## Bonus: Compare with Polars\n",
        "\n",
        "### Choose one of the queries above and implement it using Polars\n",
        "\n",
        "This will help you understand the relationship between SQL and Polars operations."
      ]
    },
    {
      "cell_type": "code",
      "execution_count": null,
      "metadata": {
        "id": "URC1IHxfzZkP"
      },
      "outputs": [],
      "source": [
        "# Example: Let's implement Exercise 2.1 (average delay by origin) in Polars\n",
        "\n",
        "# SQL version (for reference)\n",
        "sql_result = ctx.execute(\"\"\"\n",
        "    SELECT\n",
        "        origin,\n",
        "        AVG(dep_delay) as avg_delay\n",
        "    FROM flights\n",
        "    WHERE dep_delay IS NOT NULL\n",
        "    GROUP BY origin\n",
        "    ORDER BY avg_delay DESC\n",
        "\"\"\")\n",
        "\n",
        "# Polars version\n",
        "polars_result = (\n",
        "    flights\n",
        "    .filter(pl.col('dep_delay').is_not_null())\n",
        "    .group_by('origin')\n",
        "    .agg(pl.col('dep_delay').mean().alias('avg_delay'))\n",
        "    .sort('avg_delay', descending=True)\n",
        ")\n",
        "\n",
        "print(\"SQL Result:\")\n",
        "print(sql_result)\n",
        "print(\"\\nPolars Result:\")\n",
        "print(polars_result)\n",
        "\n",
        "# Now implement one of your own queries in Polars below:\n",
        "# Your Polars code here"
      ]
    }
  ],
  "metadata": {
    "kernelspec": {
      "display_name": "Python 3",
      "language": "python",
      "name": "python3"
    },
    "language_info": {
      "codemirror_mode": {
        "name": "ipython",
        "version": 3
      },
      "file_extension": ".py",
      "mimetype": "text/x-python",
      "name": "python",
      "nbconvert_exporter": "python",
      "pygments_lexer": "ipython3",
      "version": "3.8.0"
    },
    "colab": {
      "provenance": []
    }
  },
  "nbformat": 4,
  "nbformat_minor": 0
}